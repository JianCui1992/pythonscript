{
 "cells": [
  {
   "cell_type": "markdown",
   "metadata": {},
   "source": [
    "输入测试用例的图片、图片名称、图片＋GPS(经过外参变换的东北天坐标系下的)"
   ]
  },
  {
   "cell_type": "code",
   "execution_count": 13,
   "metadata": {},
   "outputs": [],
   "source": [
    "from __future__ import print_function\n",
    "from os.path import realpath, join, dirname\n",
    "import re\n",
    "import sys\n",
    "import codecs\n",
    "import bottle  # for template\n",
    "import math\n",
    "from collections import defaultdict\n",
    "import matplotlib.pyplot as plt\n",
    "import numpy as np\n",
    "\n",
    "PI = 3.141592"
   ]
  },
  {
   "cell_type": "code",
   "execution_count": 14,
   "metadata": {},
   "outputs": [],
   "source": [
    "filename = '/home/jianc/dataset/fangshan0'\n",
    "map_name = '/home/jianc/dataset/fangshan0'"
   ]
  },
  {
   "cell_type": "code",
   "execution_count": 15,
   "metadata": {},
   "outputs": [],
   "source": [
    "camera_to_vehicle_horizontal = 0.0\n",
    "camera_to_vehicle_vertical = 1.05\n",
    "Ry_cam_to_veh = -1.0"
   ]
  },
  {
   "cell_type": "raw",
   "metadata": {},
   "source": [
    "地图GPS偏移量(经过去外参变换)"
   ]
  },
  {
   "cell_type": "code",
   "execution_count": 18,
   "metadata": {},
   "outputs": [
    {
     "name": "stdout",
     "output_type": "stream",
     "text": [
      "/home/jianc/dataset/fangshan0/dump_images/image_capturer_0/1517205340.804799_00004201.tiff\n"
     ]
    },
    {
     "ename": "TypeError",
     "evalue": "bad operand type for unary -: 'str'",
     "output_type": "error",
     "traceback": [
      "\u001b[0;31m---------------------------------------------------------------------------\u001b[0m",
      "\u001b[0;31mTypeError\u001b[0m                                 Traceback (most recent call last)",
      "\u001b[0;32m<ipython-input-18-447ce82826cf>\u001b[0m in \u001b[0;36m<module>\u001b[0;34m()\u001b[0m\n\u001b[1;32m     15\u001b[0m         \u001b[0minit_gps_yaw\u001b[0m \u001b[0;34m=\u001b[0m \u001b[0mfloat\u001b[0m\u001b[0;34m(\u001b[0m\u001b[0minit_lines\u001b[0m\u001b[0;34m[\u001b[0m\u001b[0mi\u001b[0m\u001b[0;34m]\u001b[0m\u001b[0;34m.\u001b[0m\u001b[0msplit\u001b[0m\u001b[0;34m(\u001b[0m\u001b[0;34m)\u001b[0m\u001b[0;34m[\u001b[0m\u001b[0;36m4\u001b[0m\u001b[0;34m]\u001b[0m\u001b[0;34m)\u001b[0m\u001b[0;34m\u001b[0m\u001b[0m\n\u001b[1;32m     16\u001b[0m     \u001b[0;32melse\u001b[0m\u001b[0;34m:\u001b[0m\u001b[0;34m\u001b[0m\u001b[0m\n\u001b[0;32m---> 17\u001b[0;31m         \u001b[0mg\u001b[0m \u001b[0;34m=\u001b[0m \u001b[0;34m[\u001b[0m\u001b[0minit_lines\u001b[0m\u001b[0;34m[\u001b[0m\u001b[0mi\u001b[0m\u001b[0;34m]\u001b[0m\u001b[0;34m.\u001b[0m\u001b[0msplit\u001b[0m\u001b[0;34m(\u001b[0m\u001b[0;34m)\u001b[0m\u001b[0;34m[\u001b[0m\u001b[0;36m3\u001b[0m\u001b[0;34m]\u001b[0m\u001b[0;34m,\u001b[0m\u001b[0;34m-\u001b[0m\u001b[0minit_lines\u001b[0m\u001b[0;34m[\u001b[0m\u001b[0mi\u001b[0m\u001b[0;34m]\u001b[0m\u001b[0;34m.\u001b[0m\u001b[0msplit\u001b[0m\u001b[0;34m(\u001b[0m\u001b[0;34m)\u001b[0m\u001b[0;34m[\u001b[0m\u001b[0;36m1\u001b[0m\u001b[0;34m]\u001b[0m\u001b[0;34m,\u001b[0m\u001b[0minit_lines\u001b[0m\u001b[0;34m[\u001b[0m\u001b[0mi\u001b[0m\u001b[0;34m]\u001b[0m\u001b[0;34m.\u001b[0m\u001b[0msplit\u001b[0m\u001b[0;34m(\u001b[0m\u001b[0;34m)\u001b[0m\u001b[0;34m[\u001b[0m\u001b[0;36m2\u001b[0m\u001b[0;34m]\u001b[0m\u001b[0;34m]\u001b[0m\u001b[0;34m\u001b[0m\u001b[0m\n\u001b[0m\u001b[1;32m     18\u001b[0m         \u001b[0mgps_init\u001b[0m\u001b[0;34m.\u001b[0m\u001b[0mappend\u001b[0m\u001b[0;34m(\u001b[0m\u001b[0mg\u001b[0m\u001b[0;34m)\u001b[0m\u001b[0;34m\u001b[0m\u001b[0m\n\u001b[1;32m     19\u001b[0m \u001b[0;32mprint\u001b[0m\u001b[0;34m(\u001b[0m\u001b[0minit_gps_x\u001b[0m\u001b[0;34m,\u001b[0m\u001b[0minit_gps_y\u001b[0m\u001b[0;34m,\u001b[0m\u001b[0minit_gps_yaw\u001b[0m\u001b[0;34m)\u001b[0m\u001b[0;34m\u001b[0m\u001b[0m\n",
      "\u001b[0;31mTypeError\u001b[0m: bad operand type for unary -: 'str'"
     ]
    }
   ],
   "source": [
    "init_gps = map_name + '/dump_images/initGPS.txt'\n",
    "gps_init = []\n",
    "f_inig = open(init_gps)\n",
    "init_gps_x = 0\n",
    "init_gps_y = 0\n",
    "init_gps_z = 0\n",
    "init_gps_yaw = 0\n",
    "init_lines = f_inig.readlines()\n",
    "for i in range(0,len(init_lines)):\n",
    "    if(i == 0):\n",
    "        print(init_lines[i].split()[0])\n",
    "        init_gps_x = float(init_lines[i].split()[3])\n",
    "        init_gps_y = -float(init_lines[i].split()[1])\n",
    "        init_gps_z = float(init_lines[i].split()[2])\n",
    "        init_gps_yaw = float(init_lines[i].split()[4])\n",
    "    else:\n",
    "        g = [float(init_lines[i].split()[3]),-float(init_lines[i].split()[1]),float(init_lines[i].split()[2]),float(init_lines[i].split()[4])]\n",
    "        gps_init.append(g)\n",
    "print(init_gps_x,init_gps_y,init_gps_yaw)\n",
    "\n",
    "new_init_x = init_gps_x\n",
    "new_init_y = init_gps_y\n",
    "# new_init_x = init_gps_x - camera_to_vehicle_vertical*math.cos(init_gps_yaw)\n",
    "# new_init_y = init_gps_y - camera_to_vehicle_vertical*math.sin(init_gps_yaw)\n",
    "print(new_init_x,new_init_y,init_gps_yaw)\n",
    "\n"
   ]
  },
  {
   "cell_type": "markdown",
   "metadata": {},
   "source": [
    "用例gps数据减去偏移量 "
   ]
  },
  {
   "cell_type": "code",
   "execution_count": 12,
   "metadata": {},
   "outputs": [
    {
     "name": "stdout",
     "output_type": "stream",
     "text": [
      "17983\n"
     ]
    },
    {
     "ename": "NameError",
     "evalue": "name 'gps_init' is not defined",
     "output_type": "error",
     "traceback": [
      "\u001b[0;31m---------------------------------------------------------------------------\u001b[0m",
      "\u001b[0;31mNameError\u001b[0m                                 Traceback (most recent call last)",
      "\u001b[0;32m<ipython-input-12-eef3a44d88b2>\u001b[0m in \u001b[0;36m<module>\u001b[0;34m()\u001b[0m\n\u001b[1;32m     14\u001b[0m \u001b[0;31m# print(gps_debug[1])\u001b[0m\u001b[0;34m\u001b[0m\u001b[0;34m\u001b[0m\u001b[0m\n\u001b[1;32m     15\u001b[0m \u001b[0;31m# print(\" \")\u001b[0m\u001b[0;34m\u001b[0m\u001b[0;34m\u001b[0m\u001b[0m\n\u001b[0;32m---> 16\u001b[0;31m \u001b[0mtmp\u001b[0m \u001b[0;34m=\u001b[0m \u001b[0mgps_debug\u001b[0m \u001b[0;34m-\u001b[0m \u001b[0mgps_init\u001b[0m\u001b[0;34m\u001b[0m\u001b[0m\n\u001b[0m\u001b[1;32m     17\u001b[0m \u001b[0mplt\u001b[0m\u001b[0;34m.\u001b[0m\u001b[0mplot\u001b[0m\u001b[0;34m(\u001b[0m\u001b[0mtmp\u001b[0m\u001b[0;34m)\u001b[0m\u001b[0;34m\u001b[0m\u001b[0m\n\u001b[1;32m     18\u001b[0m \u001b[0;32mprint\u001b[0m\u001b[0;34m(\u001b[0m\u001b[0mgps\u001b[0m\u001b[0;34m[\u001b[0m\u001b[0;34m'1517205340.804799_00004201.tiff'\u001b[0m\u001b[0;34m]\u001b[0m\u001b[0;34m)\u001b[0m\u001b[0;34m\u001b[0m\u001b[0m\n",
      "\u001b[0;31mNameError\u001b[0m: name 'gps_init' is not defined"
     ]
    }
   ],
   "source": [
    "truth_gps = filename+'/dump_images/gps_imagekey.txt'\n",
    "\n",
    "fgps = open(truth_gps)\n",
    "\n",
    "gps = {}\n",
    "gps_debug = []\n",
    "lines = fgps.readlines()\n",
    "for line in lines:\n",
    "#     print(line.split()[0])\n",
    "    gps[line.split()[0]] = [float(line.split()[1])-new_init_x,float(line.split()[2])-new_init_y,float(line.split()[4])-init_gps_yaw]\n",
    "    gps_debug_ = [line.split()[0],float(line.split()[1])-new_init_x,float(line.split()[2])-new_init_y,float(line.split()[4])-init_gps_yaw]\n",
    "    gps_debug.append(gps_debug_)\n",
    "print(len(gps))\n",
    "# print(gps_debug[1])\n",
    "# print(\" \")\n",
    "tmp = gps_debug - gps_init\n",
    "plt.plot(tmp)\n",
    "print(gps['1517205340.804799_00004201.tiff'])"
   ]
  },
  {
   "cell_type": "code",
   "execution_count": 6,
   "metadata": {},
   "outputs": [
    {
     "name": "stdout",
     "output_type": "stream",
     "text": [
      "/\n",
      "[Warning] bad line: Log file created at: 2018/03/01 21:35:22\n",
      "\n",
      "[Warning] bad line: Running on machine: jianc-desktop\n",
      "\n",
      "[Warning] bad line: Log line format: [IWEF]mmdd hh:mm:ss.uuuuuu threadid file:line] msg\n",
      "\n",
      "['/home/jianc/dataset/fangshan0/dump_images/image_capturer_0/1517205342.137407_00004241.tiff', '-0.076', -0.029, '0.024']\n"
     ]
    }
   ],
   "source": [
    "vtrack = filename + '/dump_images/vtracker_test.INFO'\n",
    "v_state = []\n",
    "f_vtk = open(vtrack)\n",
    "print(vtrack[0])\n",
    "\n",
    "vtracker = []\n",
    "\n",
    "vlines = f_vtk.readlines()\n",
    "for vline in vlines:\n",
    "    if not vline.startswith('I'):\n",
    "        print('[Warning] bad line:', vline)\n",
    "        continue\n",
    "    if (vline.endswith('.tiff') or vline.endswith('poses')):\n",
    "        continue\n",
    "    segment = vline.split(': ')\n",
    "\n",
    "    if segment[0].endswith('result'):\n",
    "        state = segment[1].split()[1]\n",
    "        if(state.startswith('0')):\n",
    "            continue\n",
    "        v_state.append(state)\n",
    "        vtrack_ = [segment[1].split()[0],segment[1].split()[2],float(segment[1].split()[3]),segment[1].split()[4]]\n",
    "        vtracker.append(vtrack_)\n",
    "print((vtracker[51]))"
   ]
  },
  {
   "cell_type": "code",
   "execution_count": 7,
   "metadata": {},
   "outputs": [
    {
     "name": "stdout",
     "output_type": "stream",
     "text": [
      "<type 'NoneType'>\n",
      "<type 'str'>\n"
     ]
    },
    {
     "ename": "KeyError",
     "evalue": "'/home/jianc/dataset/fangshan0/dump_images/image_capturer_0/1517205338.739414_00004139.tiff'",
     "output_type": "error",
     "traceback": [
      "\u001b[0;31m---------------------------------------------------------------------------\u001b[0m",
      "\u001b[0;31mKeyError\u001b[0m                                  Traceback (most recent call last)",
      "\u001b[0;32m<ipython-input-7-cee601513a82>\u001b[0m in \u001b[0;36m<module>\u001b[0;34m()\u001b[0m\n\u001b[1;32m      1\u001b[0m \u001b[0;32mprint\u001b[0m\u001b[0;34m(\u001b[0m\u001b[0mtype\u001b[0m\u001b[0;34m(\u001b[0m\u001b[0mgps\u001b[0m\u001b[0;34m.\u001b[0m\u001b[0mget\u001b[0m\u001b[0;34m(\u001b[0m\u001b[0;34m(\u001b[0m\u001b[0mvtracker\u001b[0m\u001b[0;34m[\u001b[0m\u001b[0;36m0\u001b[0m\u001b[0;34m]\u001b[0m\u001b[0;34m[\u001b[0m\u001b[0;36m0\u001b[0m\u001b[0;34m]\u001b[0m\u001b[0;34m)\u001b[0m\u001b[0;34m)\u001b[0m\u001b[0;34m)\u001b[0m\u001b[0;34m)\u001b[0m\u001b[0;34m\u001b[0m\u001b[0m\n\u001b[1;32m      2\u001b[0m \u001b[0;32mprint\u001b[0m\u001b[0;34m(\u001b[0m\u001b[0mtype\u001b[0m\u001b[0;34m(\u001b[0m\u001b[0mvtracker\u001b[0m\u001b[0;34m[\u001b[0m\u001b[0;36m0\u001b[0m\u001b[0;34m]\u001b[0m\u001b[0;34m[\u001b[0m\u001b[0;36m0\u001b[0m\u001b[0;34m]\u001b[0m\u001b[0;34m)\u001b[0m\u001b[0;34m)\u001b[0m\u001b[0;34m\u001b[0m\u001b[0m\n\u001b[0;32m----> 3\u001b[0;31m \u001b[0;32mprint\u001b[0m\u001b[0;34m(\u001b[0m\u001b[0mgps\u001b[0m\u001b[0;34m[\u001b[0m\u001b[0mvtracker\u001b[0m\u001b[0;34m[\u001b[0m\u001b[0;36m0\u001b[0m\u001b[0;34m]\u001b[0m\u001b[0;34m[\u001b[0m\u001b[0;36m0\u001b[0m\u001b[0;34m]\u001b[0m\u001b[0;34m]\u001b[0m\u001b[0;34m)\u001b[0m\u001b[0;34m\u001b[0m\u001b[0m\n\u001b[0m\u001b[1;32m      4\u001b[0m \u001b[0;32mprint\u001b[0m\u001b[0;34m(\u001b[0m\u001b[0mvtracker\u001b[0m\u001b[0;34m[\u001b[0m\u001b[0;36m0\u001b[0m\u001b[0;34m]\u001b[0m\u001b[0;34m[\u001b[0m\u001b[0;36m1\u001b[0m\u001b[0;34m]\u001b[0m\u001b[0;34m,\u001b[0m\u001b[0mvtracker\u001b[0m\u001b[0;34m[\u001b[0m\u001b[0;36m0\u001b[0m\u001b[0;34m]\u001b[0m\u001b[0;34m[\u001b[0m\u001b[0;36m2\u001b[0m\u001b[0;34m]\u001b[0m\u001b[0;34m,\u001b[0m\u001b[0mvtracker\u001b[0m\u001b[0;34m[\u001b[0m\u001b[0;36m0\u001b[0m\u001b[0;34m]\u001b[0m\u001b[0;34m[\u001b[0m\u001b[0;36m3\u001b[0m\u001b[0;34m]\u001b[0m\u001b[0;34m)\u001b[0m\u001b[0;34m\u001b[0m\u001b[0m\n",
      "\u001b[0;31mKeyError\u001b[0m: '/home/jianc/dataset/fangshan0/dump_images/image_capturer_0/1517205338.739414_00004139.tiff'"
     ]
    }
   ],
   "source": [
    "print(type(gps.get((vtracker[0][0]))))\n",
    "print(type(vtracker[0][0]))\n",
    "print(gps[vtracker[0][0]])\n",
    "print(vtracker[0][1],vtracker[0][2],vtracker[0][3])"
   ]
  },
  {
   "cell_type": "code",
   "execution_count": null,
   "metadata": {},
   "outputs": [],
   "source": [
    "gps_x = []\n",
    "gps_y = []\n",
    "gps_yaw = []\n",
    "\n",
    "vtracker_x = []\n",
    "vtracker_y = []\n",
    "vtracker_yaw = []\n",
    "\n",
    "for i in vtracker:\n",
    "    if(gps.has_key(i[0])):\n",
    "        gps_x.append(float(gps.get(i[0])[0]))\n",
    "        gps_y.append(float(gps.get(i[0])[1]))\n",
    "        gps_yaw.append(float(gps.get(i[0])[2]))\n",
    "        \n",
    "        vtracker_x.append(float(i[1]))\n",
    "        vtracker_y.append(float(i[2]))\n",
    "        vtracker_yaw.append(float(i[3]))\n",
    "    else:\n",
    "        continue\n",
    "# print(len(vtracker_x))\n",
    "# print(gps_yaw[5000],vtracker_yaw[5000])\n",
    "# for i in vtracker_yaw:\n",
    "    \n",
    "print(len(gps_x),len(vtracker_x))\n",
    "print(vtracker_x[0],gps_x[0])"
   ]
  },
  {
   "cell_type": "markdown",
   "metadata": {},
   "source": [
    "手动对齐vtracker-yaw"
   ]
  },
  {
   "cell_type": "code",
   "execution_count": null,
   "metadata": {},
   "outputs": [],
   "source": [
    "# axisa = list(range(len(gps_yaw)))\n",
    "# new = []\n",
    "# plt.plot(axisa,gps_yaw)\n",
    "# plt.show()\n",
    "# for i in range(0,len(vtracker_yaw)):\n",
    "#     new.append(-vtracker_yaw[i]+math.pi*3)\n",
    "#     if(new[i]>math.pi*2):\n",
    "#         new[i] = new[i] - math.pi*2\n",
    "    \n",
    "# plt.plot(axisa,new)\n",
    "\n",
    "# vtracker_yaw = new"
   ]
  },
  {
   "cell_type": "code",
   "execution_count": null,
   "metadata": {},
   "outputs": [],
   "source": [
    "def errcompute(data,gps,k):\n",
    "    res = []\n",
    "    for i in range(0,len(data)):\n",
    "        if not (data[i] == 'null' and gps[i] == 'null'):\n",
    "            if not k == \"yaw\":\n",
    "                res.append(abs(data[i]-gps[i]))\n",
    "            else:\n",
    "                err = data[i] - gps[i]\n",
    "                if err > PI:\n",
    "                    err = 2 * PI - err\n",
    "                elif err < -PI:\n",
    "                    err = -2 * PI - err\n",
    "                res.append(err)\n",
    "        else:\n",
    "            res.append('null')\n",
    "    return res"
   ]
  },
  {
   "cell_type": "code",
   "execution_count": null,
   "metadata": {},
   "outputs": [],
   "source": [
    "err_x = []\n",
    "err_y = []\n",
    "err_yaw = []\n",
    "\n",
    "err_x = errcompute(vtracker_x,gps_x,'x')\n",
    "err_y = errcompute(vtracker_y,gps_y,'y')\n",
    "err_yaw = errcompute(vtracker_yaw,gps_yaw,'yaw')\n",
    "\n",
    "print(err_x[0],err_y[0],err_yaw[0])"
   ]
  },
  {
   "cell_type": "code",
   "execution_count": null,
   "metadata": {},
   "outputs": [],
   "source": [
    "def coordinates_trans(x_err, y_err, yaw):\n",
    "    res_x , res_y = [], []\n",
    "    for i in range(0,len(x_err)):\n",
    "#         print(i)\n",
    "        if not x_err[i] == 'null' and not y_err[i] == 'null' and not yaw[i] == 'null':\n",
    "            th = yaw[i] - PI / 2\n",
    "            x = float(x_err[i] * math.cos(th)) + float(y_err[i] * math.sin(th))\n",
    "            y = x_err[i] * (-math.sin(th)) + y_err[i] * math.cos(th)\n",
    "            res_x.append(x)\n",
    "            res_y.append(y)\n",
    "        else:\n",
    "            res_x.append('null')\n",
    "            res_y.append('null')\n",
    "    return res_x, res_y "
   ]
  },
  {
   "cell_type": "code",
   "execution_count": null,
   "metadata": {},
   "outputs": [],
   "source": [
    "trans_err_x = []\n",
    "trans_err_y = []\n",
    "\n",
    "trans_err_x,trans_err_y = coordinates_trans(err_x,err_y,vtracker_yaw)\n",
    "\n",
    "print(trans_err_x[0],trans_err_y[0])"
   ]
  },
  {
   "cell_type": "code",
   "execution_count": null,
   "metadata": {},
   "outputs": [],
   "source": [
    "def calculate_mean_err(err_x,err_y,err_yaw):\n",
    "    mean_err_x = 0.0\n",
    "    mean_err_y = 0.0\n",
    "    mean_err_yaw = 0.0\n",
    "    \n",
    "    max_err_x = 0.0\n",
    "    max_err_y = 0.0\n",
    "    max_err_yaw = 0.0\n",
    "    \n",
    "    min_err_x = 0.0\n",
    "    min_err_y = 0.0\n",
    "    min_err_yaw = 0.0\n",
    "    \n",
    "    sum_err_x = 0.0\n",
    "    sum_err_y = 0.0\n",
    "    sum_err_yaw = 0.0\n",
    "    \n",
    "    cnt_x = 0\n",
    "    cnt_y = 0\n",
    "    cnt_yaw = 0\n",
    "    \n",
    "    max_x_num = 0\n",
    "    max_y_num = 0\n",
    "    max_yaw_num = 0\n",
    "    \n",
    "    for i in range(0,len(err_x)):\n",
    "        e_x = abs(err_x[i])\n",
    "        e_y = abs(err_y[i])\n",
    "        e_yaw = abs(err_yaw[i])\n",
    "        if not e_x == 'null':\n",
    "            if e_x > max_err_x:\n",
    "                max_err_x = e_x\n",
    "                max_x_num = i\n",
    "            if e_x < min_err_x:\n",
    "                min_err_x = e_x\n",
    "            sum_err_x += e_x\n",
    "            cnt_x = cnt_x+1\n",
    "        if not e_y == 'null':\n",
    "            if e_y > max_err_y:\n",
    "                max_err_y = e_y\n",
    "                max_y_num = i\n",
    "            if e_y < min_err_y:\n",
    "                min_err_y = e_y\n",
    "            sum_err_y += e_y\n",
    "            cnt_y = cnt_y+1\n",
    "        if not e_yaw == 'null':\n",
    "            if e_yaw > max_err_yaw:\n",
    "                max_err_yaw = e_yaw\n",
    "                max_yaw_num = i\n",
    "            if e_yaw < min_err_yaw:\n",
    "                min_err_yaw = e_yaw\n",
    "            sum_err_yaw += e_yaw\n",
    "            cnt_yaw = cnt_yaw+1\n",
    "            \n",
    "    mean_err_x = sum_err_x/cnt_x\n",
    "    mean_err_y = sum_err_y/cnt_y\n",
    "    mean_err_yaw = sum_err_yaw/cnt_yaw\n",
    "    \n",
    "    print(\"mean-error-x: \",mean_err_x)\n",
    "    print(\"mean-error-y: \",mean_err_y)\n",
    "    print(\"mean-error-yaw: \",mean_err_yaw)\n",
    "    \n",
    "    print(\"max-error-x: \",max_err_x)\n",
    "    print(\"max-error-y: \",max_err_y)\n",
    "    print(\"max-error-yaw: \",max_err_yaw)\n",
    "    \n",
    "    print(\"min-error-x: \",min_err_x)\n",
    "    print(\"min-error-y: \",min_err_y)\n",
    "    print(\"min-error-yaw: \",min_err_yaw)\n",
    "    return max_x_num,max_y_num,max_yaw_num\n",
    "    "
   ]
  },
  {
   "cell_type": "code",
   "execution_count": null,
   "metadata": {},
   "outputs": [],
   "source": [
    "i_x,i_y,i_yaw = calculate_mean_err(trans_err_x,trans_err_y,err_yaw)\n",
    "\n",
    "print('\\n')\n",
    "calculate_mean_err(err_x,err_y,err_yaw)\n",
    "# mean-error-x:  0.122233175544\n",
    "# mean-error-y:  0.110461260282\n",
    "# mean-error-yaw:  0.0185440584546\n",
    "# max-error-x:  6.345\n",
    "# max-error-y:  1.432\n",
    "# max-error-yaw:  0.12196734641\n",
    "# min-error-x:  0.0\n",
    "# min-error-y:  0.0\n",
    "# min-error-yaw:  0.0\n",
    "\n",
    "# mean-error-x:  1.30730622603\n",
    "# mean-error-y:  1.12985482159\n",
    "# mean-error-yaw:  0.418527053587\n",
    "# max-error-x:  2.73275878355\n",
    "# max-error-y:  2.09229333747\n",
    "# max-error-yaw:  3.14094836806\n",
    "# min-error-x:  0.0\n",
    "# min-error-y:  0.0\n",
    "# min-error-yaw:  -2.99752034641\n",
    "    \n"
   ]
  },
  {
   "cell_type": "code",
   "execution_count": null,
   "metadata": {},
   "outputs": [],
   "source": [
    "def plot(err,name):\n",
    "    fig = plt.figure(figsize=(20,20), dpi=200, facecolor='white')\n",
    "    xs = list(range(len(err)))\n",
    "    my_y_ticks = np.arange(0,err_x[i_x],0.1)\n",
    "    my_x_ticks = np.arange(0,len(xs))\n",
    "    plt.xticks(my_x_ticks)\n",
    "    plt.yticks(my_y_ticks)\n",
    "    #print(xs)\n",
    "    plt.title(name)\n",
    "    plt.plot(xs,err)\n",
    "    plt.savefig('/home/jianc/tmp/'+name, dpi=200)\n",
    "    plt.show()"
   ]
  },
  {
   "cell_type": "code",
   "execution_count": null,
   "metadata": {},
   "outputs": [],
   "source": [
    "# plot(trans_err_x,'error-x')\n",
    "# plot(trans_err_y,'error-y')\n",
    "# plot(err_yaw,'error-yaw')"
   ]
  },
  {
   "cell_type": "code",
   "execution_count": null,
   "metadata": {},
   "outputs": [],
   "source": [
    "fig = plt.figure(figsize=(40,40), dpi=200, facecolor='white')\n",
    "my_x_ticks = np.arange(-300,50,2)\n",
    "my_y_ticks = np.arange(-50,300,2)\n",
    "plt.xticks(my_x_ticks)\n",
    "plt.yticks(my_y_ticks)\n",
    "\n",
    "axes = plt.subplot(111)\n",
    "\n",
    "#plot \n",
    "plt.grid(True)\n",
    "\n",
    "axes.scatter( vtracker_x, vtracker_y, linewidth=0.01, color='blue',s=10)\n",
    "axes.scatter( gps_x, gps_y, linewidth=0.01,color='red',s=10)\n",
    "plt.plot(gps_x[i_x],gps_y[i_y],'^',color = 'red')\n",
    "plt.plot(vtracker_x[i_x],vtracker_y[i_y],'o',color = 'green')\n",
    "plt.savefig('/home/jianc/tmp/gps_pose.png', dpi=200)\n",
    "plt.show()"
   ]
  },
  {
   "cell_type": "code",
   "execution_count": null,
   "metadata": {},
   "outputs": [],
   "source": [
    "fig = plt.figure(figsize=(40,40), dpi=200, facecolor='white')\n",
    "# my_x_ticks = np.arange(-300,50,2)\n",
    "# my_y_ticks = np.arange(-50,300,2)\n",
    "# plt.xticks(my_x_ticks)\n",
    "# plt.yticks(my_y_ticks)\n",
    "\n",
    "axes = plt.subplot(111)\n",
    "\n",
    "#plot \n",
    "plt.grid(True)\n",
    "\n",
    "axes.scatter( vtracker_x[13307:13347], vtracker_y[13307:13347], linewidth=0.01, color='blue',s=50)\n",
    "axes.scatter( gps_x[13287:13367], gps_y[13287:1336 7], linewidth=0.01,color='red',s=50)\n",
    "\n",
    "# plt.plot(gps_x[i_x],gps_y[i_y],'^',color = 'red')\n",
    "# plt.plot(vtracker_x[i_x],vtracker_y[i_y],'o',color = 'green')s"
   ]
  },
  {
   "cell_type": "code",
   "execution_count": null,
   "metadata": {},
   "outputs": [],
   "source": [
    "c = np.random.randint(0,10,len(err_x))\n",
    "plt.figure(figsize=(10,10))\n",
    "plt.scatter(err_x,err_y,c=c,marker='o')\n",
    "plt.colorbar()\n",
    "plt.grid(True)\n",
    "plt.xlabel('x')\n",
    "plt.ylabel('y')\n",
    "plt.title('err')\n",
    "plt.savefig('/home/jianc/tmp/vtracker_err.png', dpi=200)\n",
    "plt.show()"
   ]
  },
  {
   "cell_type": "code",
   "execution_count": null,
   "metadata": {},
   "outputs": [],
   "source": [
    "print(i_x)"
   ]
  },
  {
   "cell_type": "code",
   "execution_count": null,
   "metadata": {},
   "outputs": [],
   "source": [
    "print(i_y)"
   ]
  },
  {
   "cell_type": "code",
   "execution_count": null,
   "metadata": {},
   "outputs": [],
   "source": [
    "print(len(err_x))"
   ]
  },
  {
   "cell_type": "code",
   "execution_count": null,
   "metadata": {},
   "outputs": [],
   "source": [
    "print(vtracker_x[13221],vtracker_x[13228],vtracker_x[13229])\n",
    "print(gps_x[13221],gps_x[13227],gps_x[13228])\n",
    "print(tracjectory_map_x[13227])\n",
    "print(vtracker_yaw[13228],gps_yaw[13228])\n",
    "print(gps_yaw[13227],gps_yaw[13228],gps_yaw[13229])\n",
    "print(vtracker_yaw[13227],vtracker_yaw[13228],vtracker_yaw[13229])"
   ]
  },
  {
   "cell_type": "code",
   "execution_count": null,
   "metadata": {},
   "outputs": [],
   "source": [
    "print(i_yaw)\n",
    "ss = list(range(i_x-20,i_x+20))\n",
    "plt.scatter(ss,vtracker_x[i_x-20:i_x+20])\n",
    "plt.scatter(ss,gps_x[i_x-20:i_x+20],color='red')\n",
    "# plt.scatter(ss,tracjectory_map_x[i_x-300:i_x],color='green')\n",
    "plt.show()\n",
    "\n",
    "ss = list(range(i_y-20,i_y+20))\n",
    "plt.scatter(ss,vtracker_x[i_y-20:i_y+20])\n",
    "plt.scatter(ss,gps_x[i_y-20:i_y+20],color='red')\n",
    "\n",
    "\n",
    "\n"
   ]
  },
  {
   "cell_type": "code",
   "execution_count": null,
   "metadata": {},
   "outputs": [],
   "source": [
    "print(vtracker_yaw[15],vtracker_yaw[16],vtracker_yaw[17])\n",
    "print(vtracker_x[15],vtracker_x[16],vtracker_x[17])\n",
    "print(vtracker_y[15],vtracker_y[16],vtracker_y[17])"
   ]
  },
  {
   "cell_type": "code",
   "execution_count": null,
   "metadata": {},
   "outputs": [],
   "source": [
    "print(v_state[15],v_state[16],v_state[17])"
   ]
  },
  {
   "cell_type": "code",
   "execution_count": null,
   "metadata": {},
   "outputs": [],
   "source": []
  }
 ],
 "metadata": {
  "kernelspec": {
   "display_name": "Python 2",
   "language": "python",
   "name": "python2"
  },
  "language_info": {
   "codemirror_mode": {
    "name": "ipython",
    "version": 2
   },
   "file_extension": ".py",
   "mimetype": "text/x-python",
   "name": "python",
   "nbconvert_exporter": "python",
   "pygments_lexer": "ipython2",
   "version": "2.7.12"
  }
 },
 "nbformat": 4,
 "nbformat_minor": 2
}
