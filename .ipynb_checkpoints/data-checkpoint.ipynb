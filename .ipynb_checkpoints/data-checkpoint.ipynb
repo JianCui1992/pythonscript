{
 "cells": [
  {
   "cell_type": "markdown",
   "metadata": {},
   "source": [
    "输入navigation_log,图片序列\n",
    "\n",
    "gps与相机的外参变换\n",
    "数据从世界坐标（东北天）转换到相机坐标\n",
    "时间戳同步"
   ]
  },
  {
   "cell_type": "code",
   "execution_count": 1,
   "metadata": {},
   "outputs": [],
   "source": [
    "from __future__ import division\n",
    "from __future__ import print_function\n",
    "\n",
    "import argparse\n",
    "import os  \n",
    "import numpy as np\n",
    "import copy\n",
    "import string\n",
    "from operator import itemgetter, attrgetter\n",
    "from pyquaternion import Quaternion\n",
    "import math\n",
    "import matplotlib.pyplot as plt\n"
   ]
  },
  {
   "cell_type": "code",
   "execution_count": 2,
   "metadata": {},
   "outputs": [],
   "source": [
    "def get_filename(path,filetype,name):\n",
    "    for root,dirs,files in os.walk(path):\n",
    "        for i in files:\n",
    "            if filetype in i:\n",
    "                name.append(i) "
   ]
  },
  {
   "cell_type": "markdown",
   "metadata": {},
   "source": [
    "读navigation_log.txt\n",
    "\n",
    "odometry = (x, y, yaw)\n",
    "\n",
    "gps = (x, y, z, yaw, state)"
   ]
  },
  {
   "cell_type": "code",
   "execution_count": 3,
   "metadata": {},
   "outputs": [],
   "source": [
    "def read_navi_log(f_log):\n",
    "    navi_log_output_list = []\n",
    "    navi_log_input_list = []\n",
    "    gps = []\n",
    "    timeStamp = []\n",
    "    odometry = []\n",
    "    with open(f_log) as log_file:\n",
    "        for line in log_file:\n",
    "            segments = line.split(':')\n",
    "            if segments[0] == 'navi_log_input_data':\n",
    "                navi_log_input_list.append(map(float, segments[1].split()))\n",
    "            elif segments[0] == 'navi_log_output_data':\n",
    "                navi_log_output_list.append(map(float, segments[1].split()))\n",
    "    navi_log_input = np.array(navi_log_input_list)\n",
    "    navi_log_output = np.array(navi_log_output_list)\n",
    "\n",
    "    print(navi_log_input.shape[0],\" \",navi_log_output.shape[0])\n",
    "    assert navi_log_input.shape[0] == navi_log_output.shape[0], \"log input and output length do not equal!\"\n",
    "    data_length = navi_log_input.shape[0]\n",
    "    for it in range(0,len(navi_log_input)):\n",
    "        time_ = [navi_log_output[it][-1]]\n",
    "        gps_ = [navi_log_input[it][17]+77000.0, navi_log_input[it][18]-4389000.0, 0.0, navi_log_input[it][19], navi_log_input[it][20]]\n",
    "        #nav_output(odo+imu)\n",
    "        odo_ = [navi_log_output[it][0]+77000.0, navi_log_output[it][1]-4389000.0, navi_log_output[it][-4]]\n",
    "        gps.append(gps_)\n",
    "        timeStamp.append(time_)\n",
    "        odometry.append(odo_)\n",
    "        \n",
    "    \n",
    "    return gps,odometry,timeStamp\n"
   ]
  },
  {
   "cell_type": "code",
   "execution_count": null,
   "metadata": {},
   "outputs": [],
   "source": []
  },
  {
   "cell_type": "markdown",
   "metadata": {},
   "source": [
    "读图"
   ]
  },
  {
   "cell_type": "code",
   "execution_count": 4,
   "metadata": {},
   "outputs": [],
   "source": [
    "def read_img(f_im):\n",
    "    sort_data = []\n",
    "    name = []\n",
    "    imageWithStamp = []\n",
    "    get_filename(f_image,'.tiff',name)\n",
    "    for image_name in name:\n",
    "        sort_data.append((string.atof(image_name[0:17]),image_name))\n",
    "        if(image_name[17] != '_'):\n",
    "            print(image_name)\n",
    "    imageWithStamp = sorted(sort_data, key=itemgetter(1))\n",
    "    return imageWithStamp"
   ]
  },
  {
   "cell_type": "markdown",
   "metadata": {},
   "source": [
    "image、gps(odometry)时间戳同步，线性插值，图片的帧率要低于gps(odometry)，delta：图片间隔"
   ]
  },
  {
   "cell_type": "code",
   "execution_count": 5,
   "metadata": {},
   "outputs": [],
   "source": [
    "def Sys_data(gps,odometry,timeStamp,imageWithStamp,delta):\n",
    "    last_image_time,last_odom,last_gps,last_time = 0.0, 0.0, 0.0, 0.0\n",
    "    ODOM_SYS,GPS_SYS,GPS_WITH_IMAGE_SYS,IMAGE_KEY_SYS,TIMESTAMP_SYS = [],[],[],[],[]\n",
    "    \n",
    "    for im in range(0,len(imageWithStamp),delta):\n",
    "        if(imageWithStamp[im][0] < timeStamp[0][0]):\n",
    "            continue\n",
    "        for io in range(0,len(timeStamp)):\n",
    "            if(timeStamp[io][0] < last_image_time):\n",
    "                continue\n",
    "            if(timeStamp[io][0] < imageWithStamp[im][0]):\n",
    "                last_odom = odometry[io]\n",
    "                last_gps = gps[io]\n",
    "                last_time = timeStamp[io]\n",
    "            else:\n",
    "    #           print(last_odom[0],odometry[io][0],imageWithStamp[im][0],last_time[0],timeStamp[io][0],last_time[0])\n",
    "                # odometry x,y,theta\n",
    "                x = last_odom[0]+(odometry[io][0]-last_odom[0])*(imageWithStamp[im][0] - last_time[0])/(timeStamp[io][0]-last_time[0])\n",
    "                y = last_odom[1]+(odometry[io][1]-last_odom[1])*(imageWithStamp[im][0] - last_time[0])/(timeStamp[io][0]-last_time[0])\n",
    "                if (odometry[io][2]-last_odom[2] > 0.5):\n",
    "                    if(last_odom[2] < 0.1 and odometry[io][2] > 6.10):\n",
    "                        odometry[io][2] = odometry[io][2] - 6.283\n",
    "                    else:\n",
    "                        print(\"odometry theta error : \",last_odom[2],\"---->\",odometry[io][2])\n",
    "                        odometry[io][2] = last_odom[2]\n",
    "                theta = last_odom[2]+(odometry[io][2]-last_odom[2])*(imageWithStamp[im][0] - last_time[0])/(timeStamp[io][0]-last_time[0])\n",
    "\n",
    "                odom_sys = [x,y,theta]\n",
    "                ODOM_SYS.append(odom_sys)\n",
    "                #gps x,y,theta\n",
    "                gps_x = last_gps[0]+(gps[io][0]-last_gps[0])*(imageWithStamp[im][0] - last_time[0])/(timeStamp[io][0]-last_time[0])\n",
    "                gps_y = last_gps[1]+(gps[io][1]-last_gps[1])*(imageWithStamp[im][0] - last_time[0])/(timeStamp[io][0]-last_time[0])\n",
    "                if(abs(gps[io][3] - last_gps[3]) > 3.0):\n",
    "                    #0---->6.28\n",
    "                    if(gps[io][3] > last_gps[3]):\n",
    "                          gps[io][3] = gps[io][3]-2*math.pi\n",
    "                    elif(gps[io][3] < last_gps[3]):\n",
    "                        last_gps[3] = last_gps[3] -2*math.pi\n",
    "                    else:\n",
    "                        print(\"oh my god : \",last_gps[3],\"---->\",gps[io][3])       \n",
    "                gps_yaw = last_gps[3] + (gps[io][3] - last_gps[3])*(imageWithStamp[im][0] - last_time[0])/(timeStamp[io][0]-last_time[0])\n",
    "                if(gps_yaw<0):\n",
    "                    gps_yaw += 2 * math.pi \n",
    "                #gps z 目前没有高度信息\n",
    "                gps_state = (last_gps[4] + gps[io][4])/2\n",
    "                gps_sys = [gps_x,gps_y,0.0,gps_yaw,gps_state]\n",
    "                GPS_SYS.append(gps_sys)\n",
    "\n",
    "                #用来check error使用,带索引的GPS数据\n",
    "                gps_with_image_sys = [imageWithStamp[im][1],gps_x,gps_y,0.0,gps_yaw]\n",
    "                GPS_WITH_IMAGE_SYS.append(gps_with_image_sys)\n",
    "                #图片名\n",
    "                image_key_sys = imageWithStamp[im][1]\n",
    "                IMAGE_KEY_SYS.append(image_key_sys)\n",
    "                #时间戳\n",
    "                timestamp_sys = imageWithStamp[im][0]\n",
    "                TIMESTAMP_SYS.append(timestamp_sys)\n",
    "\n",
    "                last_image_time = imageWithStamp[im][0]\n",
    "                break\n",
    "    return ODOM_SYS,GPS_SYS,GPS_WITH_IMAGE_SYS,IMAGE_KEY_SYS,TIMESTAMP_SYS"
   ]
  },
  {
   "cell_type": "markdown",
   "metadata": {},
   "source": [
    "将GPS数据转换到ORB_SLAM初始化决定的坐标系下:\n",
    "$$(x,y,z,\\theta)    \\Rightarrow    (-y,-z,x,\\theta_a)$$\n",
    "$$if \\ 0 < \\theta < pi : \\theta_a = - \\theta$$\n",
    "$$else : \\ \\theta_a = 2*pi -\\theta $$\n"
   ]
  },
  {
   "cell_type": "code",
   "execution_count": 6,
   "metadata": {},
   "outputs": [],
   "source": [
    "def world2slam(sys_time,sys_gps,sys_odom):\n",
    "    SYS_GPS_L, SYS_ODOM_L = [] , []\n",
    "    odomtry_in_matrix, gps_in_matrix = [], []\n",
    "    for it in range(0,len(sys_time)):\n",
    "        if(sys_gps[it][-2] < math.pi and sys_gps[it][-2] >= 0):\n",
    "            gps = -sys_gps[it][-2]\n",
    "            SYS_GPS_L.append(gps)\n",
    "        elif(sys_gps[it][-2] >= math.pi and sys_gps[it][-2] <= math.pi*2):\n",
    "            gps = math.pi*2 - sys_gps[it][-2]\n",
    "            SYS_GPS_L.append(gps)\n",
    "        else:\n",
    "            print(sys_gps[it][-2])\n",
    "\n",
    "        if(sys_odom[it][-1] < math.pi and sys_odom[it][-1] >= 0):\n",
    "            odom = -sys_odom[it][-1]\n",
    "            SYS_ODOM_L.append(odom) \n",
    "        elif(sys_odom[it][-1] >= math.pi and sys_odom[it][-1] <= math.pi*2):\n",
    "            odom = math.pi*2 - sys_odom[it][-1]\n",
    "            SYS_ODOM_L.append(odom)\n",
    "        else:\n",
    "            print(sys_odom[it][-1])\n",
    "            continue   \n",
    "        it_quaternion_odometry = Quaternion(axis=[0,1,0],angle = odom)\n",
    "        it_quaternion_gps = Quaternion(axis=[0,1,0],angle = gps)\n",
    "\n",
    "        odo_pose = [it_quaternion_odometry.rotation_matrix[0][0],it_quaternion_odometry.rotation_matrix[0][1],it_quaternion_odometry.rotation_matrix[0][2],-sys_odom[it][1],\\\n",
    "                    it_quaternion_odometry.rotation_matrix[1][0],it_quaternion_odometry.rotation_matrix[1][1],it_quaternion_odometry.rotation_matrix[1][2],0.0,\\\n",
    "                    it_quaternion_odometry.rotation_matrix[2][0],it_quaternion_odometry.rotation_matrix[2][1],it_quaternion_odometry.rotation_matrix[2][2],sys_odom[it][0]]\n",
    "        gps_pose = [it_quaternion_gps.rotation_matrix[0][0],it_quaternion_gps.rotation_matrix[0][1],it_quaternion_gps.rotation_matrix[0][2],-sys_gps[it][1],\\\n",
    "                    it_quaternion_gps.rotation_matrix[1][0],it_quaternion_gps.rotation_matrix[1][1],it_quaternion_gps.rotation_matrix[1][2],0.0,\\\n",
    "                    it_quaternion_gps.rotation_matrix[2][0],it_quaternion_gps.rotation_matrix[2][1],it_quaternion_gps.rotation_matrix[2][2],sys_gps[it][0],\\\n",
    "                    sys_gps[it][-1]]\n",
    "        odomtry_in_matrix.append(odo_pose)\n",
    "        gps_in_matrix.append(gps_pose)\n",
    "    return SYS_GPS_L, SYS_ODOM_L,odomtry_in_matrix, gps_in_matrix"
   ]
  },
  {
   "cell_type": "markdown",
   "metadata": {},
   "source": [
    "gps--->camera外参偏移转换\n",
    "$$x = x_0 + vertical * cos(\\theta)$$\n",
    "$$y = y_0 + vertical * sin(\\theta)$$"
   ]
  },
  {
   "cell_type": "code",
   "execution_count": 7,
   "metadata": {},
   "outputs": [],
   "source": [
    "# for i in Sys_GPS:\n",
    "# #     print('gps_frame',i[0],i[1],i[3])\n",
    "#     i[0] = i[0] + camera_to_vehicle_vertical*math.cos(i[3])\n",
    "#     i[1] = i[1] + camera_to_vehicle_vertical*math.sin(i[3])\n",
    "#     print('cam_frame',i[0],i[1],i[3])\n",
    "#     p=input()"
   ]
  },
  {
   "cell_type": "code",
   "execution_count": 8,
   "metadata": {},
   "outputs": [
    {
     "name": "stdout",
     "output_type": "stream",
     "text": [
      "23815   23815\n"
     ]
    },
    {
     "data": {
      "text/plain": [
       "[<matplotlib.lines.Line2D at 0x7fc0f561b210>]"
      ]
     },
     "execution_count": 8,
     "metadata": {},
     "output_type": "execute_result"
    },
    {
     "data": {
      "image/png": "[encoded data removed]",
      "text/plain": [
       "<matplotlib.figure.Figure at 0x7fc0f824c190>"
      ]
     },
     "metadata": {},
     "output_type": "display_data"
    }
   ],
   "source": [
    "filename = '/home/jianc/dataset/fangshan0'\n",
    "f_nav = filename+'/uos_navigation.log'\n",
    "f_image = filename+'/dump_images/image_capturer_0'\n",
    "\n",
    "\n",
    "camera_to_vehicle_horizontal = 0.0\n",
    "camera_to_vehicle_vertical = 1.05\n",
    "Ry_cam_to_veh = -1.0\n",
    "\n",
    "\n",
    "nav_gps,nav_odom,nav_timestamp = read_navi_log(f_nav)\n",
    "\n",
    "# tmp = []\n",
    "# for i in nav_gps:\n",
    "#     tmp.append(i[0])\n",
    "\n",
    "# plt.plot(tmp)\n",
    "\n",
    "\n",
    "# image = read_img(f_image)\n",
    "# delta = 2\n",
    "# # print(read_navi_log(f_nav)[0][0])\n",
    "# # print(read_img(f_image)[0])\n",
    "# last_image_time,last_odom,last_gps,last_time = 0.0,0.0,0.0,0.0\n",
    "# odometry,gps,gps_image,image_key,time_stamp = Sys_data(nav_gps,nav_odom,nav_timestamp,image,2)\n",
    "# # plot(odometry,gps)\n",
    "# SYS_GPS_L, SYS_ODOM_L,odomtry_in_matrix, gps_in_matrix = world2slam(time_stamp,gps,odometry)\n"
   ]
  },
  {
   "cell_type": "markdown",
   "metadata": {},
   "source": [
    "写文件"
   ]
  },
  {
   "cell_type": "markdown",
   "metadata": {},
   "source": [
    "建图需要gps.txt odom.txt image_name.txt times.txt"
   ]
  },
  {
   "cell_type": "code",
   "execution_count": 9,
   "metadata": {},
   "outputs": [],
   "source": [
    "g = open(filename+\"/dump_images/gps.txt\",\"w\")\n",
    "for i in gps_in_matrix:\n",
    "    print(i[0],i[1],i[2],i[3],i[4],i[5],i[6],i[7],i[8],i[9],i[10],i[11],i[12],file = g)\n",
    "g.close()"
   ]
  },
  {
   "cell_type": "code",
   "execution_count": 10,
   "metadata": {},
   "outputs": [],
   "source": [
    "o = open(filename+\"/dump_images/odom.txt\",\"w\")\n",
    "for i in odomtry_in_matrix:\n",
    "    print(i[0],i[1],i[2],i[3],i[4],i[5],i[6],i[7],i[8],i[9],i[10],i[11],file = o)\n",
    "o.close()"
   ]
  },
  {
   "cell_type": "code",
   "execution_count": 11,
   "metadata": {},
   "outputs": [],
   "source": [
    "t = open(filename+\"/dump_images/image_name.txt\",\"w\")\n",
    "for i in image_key:\n",
    "    print(i,file = t)\n",
    "t.close()"
   ]
  },
  {
   "cell_type": "code",
   "execution_count": 12,
   "metadata": {},
   "outputs": [],
   "source": [
    "time = open(filename+\"/dump_images/times.txt\",\"w\")\n",
    "for i in time_stamp:\n",
    "    print(i,file=time)\n",
    "time.close()"
   ]
  },
  {
   "cell_type": "markdown",
   "metadata": {},
   "source": [
    "vtracker需要img_name.txt（绝对路径）"
   ]
  },
  {
   "cell_type": "code",
   "execution_count": 13,
   "metadata": {},
   "outputs": [],
   "source": [
    "img_name = open(filename+\"/dump_images/imgname.txt\",\"w\")\n",
    "for i in image_key:\n",
    "    print(filename+\"/dump_images/image_capturer_0/\"+i,file = img_name)\n",
    "img_name.close()"
   ]
  },
  {
   "cell_type": "markdown",
   "metadata": {},
   "source": [
    "对比需要gps_images.txt（原始数据)"
   ]
  },
  {
   "cell_type": "code",
   "execution_count": 14,
   "metadata": {
    "scrolled": true
   },
   "outputs": [],
   "source": [
    "gps_im = open(filename+\"/dump_images/gps_imagekey.txt\",\"w\")\n",
    "for i in gps_image:\n",
    "    print(i[0],i[1],i[2],i[3],i[4],file=gps_im)\n",
    "gps_im.close()"
   ]
  },
  {
   "cell_type": "code",
   "execution_count": 15,
   "metadata": {},
   "outputs": [
    {
     "name": "stdout",
     "output_type": "stream",
     "text": [
      "done\n"
     ]
    }
   ],
   "source": [
    "print('done')"
   ]
  }
 ],
 "metadata": {
  "kernelspec": {
   "display_name": "Python 2",
   "language": "python",
   "name": "python2"
  },
  "language_info": {
   "codemirror_mode": {
    "name": "ipython",
    "version": 2
   },
   "file_extension": ".py",
   "mimetype": "text/x-python",
   "name": "python",
   "nbconvert_exporter": "python",
   "pygments_lexer": "ipython2",
   "version": "2.7.12"
  }
 },
 "nbformat": 4,
 "nbformat_minor": 2
}
